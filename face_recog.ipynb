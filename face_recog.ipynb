{
 "cells": [
  {
   "cell_type": "markdown",
   "metadata": {},
   "source": [
    "initialize"
   ]
  },
  {
   "cell_type": "code",
   "execution_count": 1,
   "metadata": {},
   "outputs": [
    {
     "name": "stdout",
     "output_type": "stream",
     "text": [
      "2ndemployee\n",
      "3rdemployee\n",
      "biden\n",
      "employee\n",
      "obama\n",
      "sukrit\n",
      "test1\n",
      "Trump\n"
     ]
    }
   ],
   "source": [
    "import face_recognition\n",
    "import cv2\n",
    "import os\n",
    "\n",
    "# Load sample images and encode known faces\n",
    "known_face_encodings = []\n",
    "known_face_names = []\n",
    "\n",
    "# Specify the directory path\n",
    "directory = \"known_people\"\n",
    "\n",
    "# Loop through all files in the directory\n",
    "for filename in os.listdir(directory):\n",
    "    # Check if the filename is a file (not a directory)\n",
    "    if os.path.isfile(os.path.join(directory, filename)):\n",
    "        # Process the file here\n",
    "        filepath = os.path.join(directory, filename)\n",
    "        base_name, _ = os.path.splitext(filename)\n",
    "        # Encode known faces\n",
    "        image = face_recognition.load_image_file(filepath)\n",
    "        face_encoding = face_recognition.face_encodings(image)[0]\n",
    "        known_face_encodings.append(face_encoding)\n",
    "        known_face_names.append(base_name)\n",
    "        print(base_name)\n",
    "\n",
    "# Load the image for recognition\n",
    "image = face_recognition.load_image_file(\"to_test/sukrit_obama.jpg\")"
   ]
  },
  {
   "cell_type": "markdown",
   "metadata": {},
   "source": [
    "encode input image"
   ]
  },
  {
   "cell_type": "code",
   "execution_count": 2,
   "metadata": {},
   "outputs": [
    {
     "name": "stdout",
     "output_type": "stream",
     "text": [
      "(425, 390, 580, 236)\n",
      "[array([-0.10790373,  0.13203692,  0.11597937, -0.06059684, -0.04823219,\n",
      "       -0.00901629, -0.1520671 , -0.08321621,  0.14684094, -0.04127486,\n",
      "        0.26411608,  0.01891576, -0.21531832, -0.19809172,  0.02437406,\n",
      "        0.07054263, -0.12751886, -0.08869027, -0.05513313, -0.07198612,\n",
      "        0.08882397,  0.01607392,  0.07527818,  0.00565782, -0.20380722,\n",
      "       -0.37938723, -0.07363956, -0.14498433, -0.02207215, -0.14102693,\n",
      "       -0.05314043,  0.06634235, -0.1535712 , -0.0776928 , -0.01088161,\n",
      "        0.04902807, -0.00186829, -0.01088675,  0.14533702,  0.00392539,\n",
      "       -0.14662057,  0.09630686,  0.0210984 ,  0.18639408,  0.2357934 ,\n",
      "        0.05517568,  0.0230998 , -0.05478671,  0.13634209, -0.21120673,\n",
      "        0.06263325,  0.22828183,  0.11822165,  0.02791444,  0.14954953,\n",
      "       -0.10224154, -0.002259  ,  0.10394546, -0.17381293,  0.02326038,\n",
      "        0.01705614, -0.04308067, -0.06527179, -0.02444678,  0.1532758 ,\n",
      "        0.13917552, -0.10273816, -0.08455624,  0.12973286, -0.01452526,\n",
      "       -0.03965824,  0.10786378, -0.180182  , -0.16258512, -0.19832899,\n",
      "        0.07303712,  0.36251345,  0.10177169, -0.2355509 ,  0.01971577,\n",
      "       -0.19348985, -0.00838992, -0.02522666, -0.07275475, -0.10299247,\n",
      "       -0.08057   , -0.07190979,  0.02393972,  0.13292611,  0.03488632,\n",
      "        0.01330763,  0.23972569,  0.03807709,  0.06358244,  0.04866949,\n",
      "        0.0171386 , -0.11792986, -0.03527095, -0.12214983, -0.07505708,\n",
      "        0.0667809 , -0.11333737, -0.01385902,  0.06991912, -0.23713565,\n",
      "        0.12256017,  0.04972352, -0.0015919 ,  0.04412758,  0.04823165,\n",
      "       -0.06965943, -0.00495647,  0.12246604, -0.28247887,  0.22929493,\n",
      "        0.15405476,  0.06815048,  0.13117361,  0.08916071,  0.04113573,\n",
      "       -0.04817708, -0.06593357, -0.07596844, -0.11066236,  0.06375924,\n",
      "        0.00415742,  0.01572849,  0.01186015]), array([-0.11875437,  0.04741908,  0.09709495, -0.04618283, -0.02947166,\n",
      "       -0.04108784, -0.0483331 , -0.11486695,  0.16286279, -0.13914731,\n",
      "        0.2122252 , -0.01628708, -0.15458159, -0.02782788, -0.0704032 ,\n",
      "        0.11962692, -0.13294531, -0.1094063 , -0.03134222, -0.04176265,\n",
      "        0.02086954, -0.023322  , -0.03431774,  0.04702355, -0.10136154,\n",
      "       -0.3013514 , -0.09945948, -0.17356193,  0.08389049, -0.00405652,\n",
      "       -0.07844625, -0.0251531 , -0.15660489, -0.04157823,  0.01646151,\n",
      "        0.08467503, -0.00148773,  0.00447691,  0.1953909 , -0.02586425,\n",
      "       -0.18814972,  0.0157346 ,  0.06948575,  0.19211447,  0.12059563,\n",
      "        0.10940608,  0.02492297, -0.13451076,  0.14226452, -0.20718533,\n",
      "        0.10023346,  0.07915179,  0.14618419,  0.10701726,  0.02206136,\n",
      "       -0.21412386,  0.084341  ,  0.08942236, -0.20498383,  0.13427325,\n",
      "        0.04974643, -0.07864303, -0.00895838,  0.07785471,  0.29952177,\n",
      "        0.11558154, -0.11096067, -0.11719786,  0.18971074, -0.17720012,\n",
      "       -0.01484171,  0.07212337, -0.0886391 , -0.16293214, -0.26222691,\n",
      "        0.08000825,  0.46874759,  0.17565416, -0.16237554,  0.0420902 ,\n",
      "       -0.12208002, -0.04999874,  0.13001855,  0.10540228, -0.09220868,\n",
      "       -0.02940858, -0.05985419, -0.02815824,  0.23888402, -0.00121685,\n",
      "       -0.00138881,  0.17197789,  0.00381891,  0.12902361, -0.03349685,\n",
      "        0.00650268, -0.12425068, -0.00716539, -0.10091767, -0.04860055,\n",
      "        0.02060717,  0.01353377,  0.0237906 ,  0.12202302, -0.2379815 ,\n",
      "        0.13040489, -0.01542553, -0.06352222,  0.03041675,  0.07539064,\n",
      "       -0.05446075, -0.06428497,  0.14393918, -0.21327925,  0.24455327,\n",
      "        0.18702868,  0.13524023,  0.14741141,  0.1208623 ,  0.0074896 ,\n",
      "        0.06480444, -0.04206575, -0.20833704, -0.01700344,  0.09328112,\n",
      "       -0.10732476,  0.08912955,  0.03437847])]\n"
     ]
    }
   ],
   "source": [
    "face_locations = face_recognition.face_locations(image, model='hog')\n",
    "print(face_locations[0])\n",
    "face_encodings = face_recognition.face_encodings(image, face_locations)\n",
    "print(face_encodings)\n",
    "cv2.rectangle(image, (face_locations[0][1], face_locations[0][0]), (face_locations[0][3], face_locations[0][2]), (0, 0, 255), 2)\n",
    "cv2.imshow(\"suk\", image)\n"
   ]
  },
  {
   "cell_type": "markdown",
   "metadata": {},
   "source": [
    "recognition"
   ]
  },
  {
   "cell_type": "code",
   "execution_count": 3,
   "metadata": {},
   "outputs": [],
   "source": [
    "face_names = []\n",
    "for face_encoding in face_encodings:\n",
    "    # Compare face encoding with known faces\n",
    "    matches = face_recognition.compare_faces(known_face_encodings, face_encoding)\n",
    "    name = \"Unknown\"\n",
    "\n",
    "    # If a match is found, use the known face name\n",
    "    if True in matches:\n",
    "        first_match_index = matches.index(True)\n",
    "        name = known_face_names[first_match_index]\n",
    "\n",
    "    face_names.append(name)"
   ]
  },
  {
   "cell_type": "markdown",
   "metadata": {},
   "source": [
    "display"
   ]
  },
  {
   "cell_type": "code",
   "execution_count": 4,
   "metadata": {},
   "outputs": [],
   "source": [
    "# Display results\n",
    "for (top, right, bottom, left), name in zip(face_locations, face_names):\n",
    "    # Draw a box around the face\n",
    "    cv2.rectangle(image, (left, top), (right, bottom), (0, 0, 255), 2)\n",
    "\n",
    "    # Draw a label with the name below the face\n",
    "    cv2.rectangle(image, (left, bottom - 35), (right, bottom), (0, 0, 255), cv2.FILLED)\n",
    "    font = cv2.FONT_HERSHEY_DUPLEX\n",
    "    cv2.putText(image, name, (left + 6, bottom - 6), font, 0.7, (255, 255, 255), 1)\n",
    "\n",
    "# Display the resulting image\n",
    "\n",
    "cv2.imshow('Face Recognition', image)\n",
    "cv2.waitKey(0)\n",
    "cv2.destroyAllWindows()"
   ]
  }
 ],
 "metadata": {
  "kernelspec": {
   "display_name": ".venv",
   "language": "python",
   "name": "python3"
  },
  "language_info": {
   "codemirror_mode": {
    "name": "ipython",
    "version": 3
   },
   "file_extension": ".py",
   "mimetype": "text/x-python",
   "name": "python",
   "nbconvert_exporter": "python",
   "pygments_lexer": "ipython3",
   "version": "3.11.9"
  }
 },
 "nbformat": 4,
 "nbformat_minor": 2
}
